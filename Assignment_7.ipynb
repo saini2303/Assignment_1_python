{
 "cells": [
  {
   "cell_type": "markdown",
   "id": "1ea78479-69af-4f65-ae2b-f0d4a16a5abd",
   "metadata": {},
   "source": [
    "<b>Question1: Create two int type variables, apply addition, subtraction, division and multiplications and store the results in variables. Then print the data in the following format by calling the variables:\n",
    "    First variable is 10 & second variable is 5\n",
    "    "
   ]
  },
  {
   "cell_type": "code",
   "execution_count": 1,
   "id": "1176931e-c61d-4007-bcc6-8482aedb0233",
   "metadata": {},
   "outputs": [],
   "source": [
    "num1 = 10\n",
    "num2 = 5\n",
    "addition_result = num1 + num2\n",
    "subtraction_result = num1 - num2\n",
    "division_result = num1 / num2\n",
    "multiplication_result = num1 * num2"
   ]
  },
  {
   "cell_type": "code",
   "execution_count": 3,
   "id": "412bbd17-db49-46b2-bacf-859fc824da62",
   "metadata": {},
   "outputs": [
    {
     "name": "stdout",
     "output_type": "stream",
     "text": [
      "The addition result is: 15\n"
     ]
    }
   ],
   "source": [
    "print(\"The addition result is:\", addition_result)"
   ]
  },
  {
   "cell_type": "code",
   "execution_count": 4,
   "id": "3f480a04-80b1-41f4-b615-3f215994c67f",
   "metadata": {},
   "outputs": [
    {
     "name": "stdout",
     "output_type": "stream",
     "text": [
      "The subtraction result is: 5\n"
     ]
    }
   ],
   "source": [
    "print(\"The subtraction result is:\", subtraction_result)"
   ]
  },
  {
   "cell_type": "code",
   "execution_count": 5,
   "id": "e2b7b552-7f5c-4cf9-aab5-67ffca1ff231",
   "metadata": {},
   "outputs": [
    {
     "name": "stdout",
     "output_type": "stream",
     "text": [
      "The division result is: 2.0\n"
     ]
    }
   ],
   "source": [
    "print(\"The division result is:\", division_result)"
   ]
  },
  {
   "cell_type": "code",
   "execution_count": 6,
   "id": "f9724a37-b2aa-43b2-85bb-8c56f94d0570",
   "metadata": {},
   "outputs": [
    {
     "name": "stdout",
     "output_type": "stream",
     "text": [
      "The multiplication result is: 50\n"
     ]
    }
   ],
   "source": [
    "print(\"The multiplication result is:\", multiplication_result)"
   ]
  },
  {
   "cell_type": "markdown",
   "id": "ffdd2a9d-7604-4de6-89a7-0b4fdf066f53",
   "metadata": {},
   "source": [
    "<b>Question2: What is the difference between the following operators: (1) '/'&'//'   (2) '**'&'^'"
   ]
  },
  {
   "cell_type": "markdown",
   "id": "4336ec9d-956c-464f-9b86-0a530b84e322",
   "metadata": {},
   "source": [
    "(1) Operators: "
   ]
  },
  {
   "cell_type": "markdown",
   "id": "5ccbd00f-ceb5-4c64-a8e9-9d65a2228460",
   "metadata": {},
   "source": [
    "| '/' | '//' |\n",
    "|-----|------|\n",
    "| '/'basically its the division operator which perform floating point division | '//'this is the floor division operator also known as integer divsion |\n",
    "| Example of '/' | Example of '//' |\n",
    "| print(10 / 3) | print(10 // 3) |\n",
    "| Output: 3.3333333333333 | Output: 3 |"
   ]
  },
  {
   "cell_type": "markdown",
   "id": "1f158c46-0040-404f-9c2c-45350e77de89",
   "metadata": {},
   "source": [
    "(2) Operators:"
   ]
  },
  {
   "cell_type": "markdown",
   "id": "dbd15b4e-92d5-458d-9901-8a380817398c",
   "metadata": {},
   "source": [
    "| '**' | '^' |\n",
    "|------|-----|\n",
    "| Its the exponentiation operator | Its the bitwise operator |\n",
    "| Example of '**' | Example of '^' |\n",
    "| print(2 ** 3) | print(5 ^ 3) |\n",
    "| Output: 8 | Output: 6 |"
   ]
  },
  {
   "cell_type": "markdown",
   "id": "c571409a-d7b5-450c-bf0c-a9a06b2d4102",
   "metadata": {},
   "source": [
    "<b>Question3: List the logical operators."
   ]
  },
  {
   "cell_type": "markdown",
   "id": "c232e693-7eb9-415f-84f9-5658d57ecd88",
   "metadata": {},
   "source": [
    "Answer3: Basically in puthon there are 3 logical operators:-\n",
    "        (1) and operator\n",
    "        (2) or operator\n",
    "        (3) not operator\n",
    "    "
   ]
  },
  {
   "cell_type": "markdown",
   "id": "56737028-3df1-4764-8e37-2fcf45c3179d",
   "metadata": {},
   "source": [
    "<b>Question4: Explain right shift operator and left shift operator with examples."
   ]
  },
  {
   "cell_type": "markdown",
   "id": "89b51040-fdf6-4d1e-928e-93c0483951df",
   "metadata": {},
   "source": [
    "Answer4: \n",
    "Right shift operator: \n",
    "        (1) Right shift operator ('>>') shifts the bits of a binary number to the right by a specific number\n",
    "        (2) It reduces the value of the number by half\n",
    "        (3) Example of right shift operator:"
   ]
  },
  {
   "cell_type": "code",
   "execution_count": 14,
   "id": "7b367f14-7009-40f0-823a-745662fa7e11",
   "metadata": {},
   "outputs": [
    {
     "name": "stdout",
     "output_type": "stream",
     "text": [
      "5\n"
     ]
    }
   ],
   "source": [
    "num = 10\n",
    "shifted_num = num >> 1\n",
    "print(shifted_num)"
   ]
  },
  {
   "cell_type": "markdown",
   "id": "78345696-aec3-4832-b02f-a29619f7c7d5",
   "metadata": {},
   "source": [
    "Left shift operstor:\n",
    "    (1) The left shift operator ('<<') shifts the bits of a binary number to the left by a specoific number \n",
    "    (2) It doubles the value of the number\n",
    "    (3) Example of left shift operator:\n",
    "        "
   ]
  },
  {
   "cell_type": "code",
   "execution_count": 16,
   "id": "08106640-21d4-42d0-bb47-9725d4ba9039",
   "metadata": {},
   "outputs": [
    {
     "name": "stdout",
     "output_type": "stream",
     "text": [
      "10\n"
     ]
    }
   ],
   "source": [
    "num = 5\n",
    "shifted_num = num << 1\n",
    "print(shifted_num)"
   ]
  },
  {
   "cell_type": "markdown",
   "id": "7da86b0f-76f1-45b1-9553-6a5b9d68c734",
   "metadata": {},
   "source": [
    "<b>Question5: Create a list containig int type data of length 15. Then write a code to check if 10 is present in the list or not."
   ]
  },
  {
   "cell_type": "code",
   "execution_count": 18,
   "id": "cb804d18-4f69-4622-8e70-c62a64d2a6c3",
   "metadata": {},
   "outputs": [
    {
     "name": "stdout",
     "output_type": "stream",
     "text": [
      "10 is present in the list\n"
     ]
    }
   ],
   "source": [
    "my_list = [5, 3, 8, 2, 10, 6, 1, 9, 4, 7, 11, 13, 15, 12, 14]\n",
    "if 10 in my_list:\n",
    "    print(\"10 is present in the list\")\n",
    "else:\n",
    "    print(\"10 is not present in the list\")\n"
   ]
  },
  {
   "cell_type": "code",
   "execution_count": null,
   "id": "b9157b49-9415-457c-8260-4468690ee66c",
   "metadata": {},
   "outputs": [],
   "source": []
  }
 ],
 "metadata": {
  "kernelspec": {
   "display_name": "Python 3 (ipykernel)",
   "language": "python",
   "name": "python3"
  },
  "language_info": {
   "codemirror_mode": {
    "name": "ipython",
    "version": 3
   },
   "file_extension": ".py",
   "mimetype": "text/x-python",
   "name": "python",
   "nbconvert_exporter": "python",
   "pygments_lexer": "ipython3",
   "version": "3.10.6"
  }
 },
 "nbformat": 4,
 "nbformat_minor": 5
}
