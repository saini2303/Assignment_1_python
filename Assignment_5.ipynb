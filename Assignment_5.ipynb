{
 "cells": [
  {
   "cell_type": "markdown",
   "id": "77d57692-12f3-4b57-afd2-5c2eb778bf4a",
   "metadata": {},
   "source": [
    "<b>Question1: What does an empty dictionary's code look like?"
   ]
  },
  {
   "cell_type": "markdown",
   "id": "41ce8994-7fbd-45a5-ac7a-f83f5db216b8",
   "metadata": {},
   "source": [
    "Answer1: In python the empty dictionary's code look like Two curly brackets {}"
   ]
  },
  {
   "cell_type": "markdown",
   "id": "4455616d-1cb5-4a37-b49f-1f037d650c4f",
   "metadata": {},
   "source": [
    "<b>Question2: What is the value of a dictionary value with the key 'foo' and the value 42?"
   ]
  },
  {
   "cell_type": "markdown",
   "id": "4177805e-29b0-4eee-a8c9-226c0872b268",
   "metadata": {},
   "source": [
    "Answer2: In the dictinary value with the key 'foo' and the value 42 we get {'foo':42}"
   ]
  },
  {
   "cell_type": "code",
   "execution_count": 2,
   "id": "30edd0b6-a398-4b5d-b69d-65067905d3d0",
   "metadata": {},
   "outputs": [
    {
     "name": "stdout",
     "output_type": "stream",
     "text": [
      "42\n"
     ]
    }
   ],
   "source": [
    "my_dict = {'foo' : 42}\n",
    "print(my_dict['foo'])"
   ]
  },
  {
   "cell_type": "markdown",
   "id": "76e255b9-d45f-4257-9bf0-d6527c3b3145",
   "metadata": {},
   "source": [
    "<b>Question3: What is the most significant distinction between a dictionary and a list?"
   ]
  },
  {
   "cell_type": "markdown",
   "id": "f6b219c3-2645-4bbd-a0fa-b11750218d7b",
   "metadata": {},
   "source": [
    "Answer3: Basically the items which is stored in dictionary are unordered and the items which are stored in list are ordered."
   ]
  },
  {
   "cell_type": "markdown",
   "id": "638660ba-d731-4164-8365-35f296068dd4",
   "metadata": {},
   "source": [
    "<b>Question4: What happens if you try to access spam['foo'] if spam is {'bar':100}?"
   ]
  },
  {
   "cell_type": "markdown",
   "id": "59f0f3c8-dd76-4a28-bbdd-0028903ed8cb",
   "metadata": {},
   "source": [
    "Answer4: If we access spam['foo'] if spam is {'bar':100} then we get KeyError error."
   ]
  },
  {
   "cell_type": "code",
   "execution_count": 1,
   "id": "f0ee5e7f-5225-4a4e-bd40-7cb630d72196",
   "metadata": {},
   "outputs": [
    {
     "ename": "KeyError",
     "evalue": "'foo'",
     "output_type": "error",
     "traceback": [
      "\u001b[0;31m---------------------------------------------------------------------------\u001b[0m",
      "\u001b[0;31mKeyError\u001b[0m                                  Traceback (most recent call last)",
      "Cell \u001b[0;32mIn [1], line 2\u001b[0m\n\u001b[1;32m      1\u001b[0m spam \u001b[38;5;241m=\u001b[39m {\u001b[38;5;124m'\u001b[39m\u001b[38;5;124mbar\u001b[39m\u001b[38;5;124m'\u001b[39m : \u001b[38;5;241m100\u001b[39m}\n\u001b[0;32m----> 2\u001b[0m \u001b[38;5;28mprint\u001b[39m(\u001b[43mspam\u001b[49m\u001b[43m[\u001b[49m\u001b[38;5;124;43m'\u001b[39;49m\u001b[38;5;124;43mfoo\u001b[39;49m\u001b[38;5;124;43m'\u001b[39;49m\u001b[43m]\u001b[49m)\n",
      "\u001b[0;31mKeyError\u001b[0m: 'foo'"
     ]
    }
   ],
   "source": [
    "spam = {'bar' : 100}\n",
    "print(spam['foo'])"
   ]
  },
  {
   "cell_type": "markdown",
   "id": "2d632924-8537-4468-978f-2f4efdc0df68",
   "metadata": {},
   "source": [
    "<b>Question5: If a dictionary is stored in spam, what is the difference between the expression 'cat' in spam and 'cat' in spam.keys()?"
   ]
  },
  {
   "cell_type": "markdown",
   "id": "4e619f2f-d674-4282-9462-745394211b57",
   "metadata": {},
   "source": [
    "Answer5: Basically there is no difference between the expression 'cat' in spam and 'cat' in spam.keys()"
   ]
  },
  {
   "cell_type": "markdown",
   "id": "3b30b6dd-64e5-4d73-8fa6-8af188cdae55",
   "metadata": {},
   "source": [
    "<b>Question6: If a dictionary is stored in spam, what is the different between the expression 'cat' in spam and 'cat' in spam.values()?"
   ]
  },
  {
   "cell_type": "markdown",
   "id": "89682396-a69e-42bd-834d-5b39d65cf7b7",
   "metadata": {},
   "source": [
    "Answer6: There is slight difference between them like 'cat' in spam checks whether there is a 'cat' key in the dictionary while 'cat' in spam.values() check there is a value 'cat' in key spam."
   ]
  },
  {
   "cell_type": "markdown",
   "id": "89c5b140-6524-43af-8b15-c47e486cd3e8",
   "metadata": {},
   "source": [
    "<b>Question7: Whay is a shortcut for the following code?\n",
    "if 'color' not in spam:\n",
    "    spam['color']='black'"
   ]
  },
  {
   "cell_type": "markdown",
   "id": "536ddaa0-ac52-4c10-a232-3dfeae8fb3b3",
   "metadata": {},
   "source": [
    "Answer7: spam.setdefault('color','black')"
   ]
  },
  {
   "cell_type": "markdown",
   "id": "0049a30c-3501-4a84-af8e-d4dfdde1846e",
   "metadata": {},
   "source": [
    "<b>Question8: How do you \"preety print\" dictionary values using which module and function?"
   ]
  },
  {
   "cell_type": "markdown",
   "id": "5d5b459f-5df6-40a7-9500-db3da2695902",
   "metadata": {},
   "source": [
    "Answer8:  pprint.pprint()"
   ]
  }
 ],
 "metadata": {
  "kernelspec": {
   "display_name": "Python 3 (ipykernel)",
   "language": "python",
   "name": "python3"
  },
  "language_info": {
   "codemirror_mode": {
    "name": "ipython",
    "version": 3
   },
   "file_extension": ".py",
   "mimetype": "text/x-python",
   "name": "python",
   "nbconvert_exporter": "python",
   "pygments_lexer": "ipython3",
   "version": "3.10.6"
  }
 },
 "nbformat": 4,
 "nbformat_minor": 5
}
