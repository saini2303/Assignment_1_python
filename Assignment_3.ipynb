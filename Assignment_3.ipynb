{
 "cells": [
  {
   "cell_type": "markdown",
   "id": "bead9aa2-570a-4f9b-a9ba-4e1d264bb334",
   "metadata": {},
   "source": [
    "<b>Question1: Why are functions advantageous to have in your programs?"
   ]
  },
  {
   "cell_type": "markdown",
   "id": "5f2aaff5-7401-4e58-8997-ff8732bdf1bd",
   "metadata": {},
   "source": [
    "Answer1: Basically function reduces duplicate code which makes program shorter, easier to read and update."
   ]
  },
  {
   "cell_type": "markdown",
   "id": "efa60637-446b-4720-83c5-96e9a334b23d",
   "metadata": {},
   "source": [
    "<b>Question2: When does the code in a function run: when it's specified or when it's called?"
   ]
  },
  {
   "cell_type": "markdown",
   "id": "d59bee1e-58d6-45be-9c04-09444b363b69",
   "metadata": {},
   "source": [
    "Answer2: The code in the function is made or created when the function is called, not when the function is defined."
   ]
  },
  {
   "cell_type": "markdown",
   "id": "45fa37f2-23f9-4b62-84c3-dfcd7e19ce18",
   "metadata": {},
   "source": [
    "<b>Question3: What statements creates a function?"
   ]
  },
  {
   "cell_type": "markdown",
   "id": "b5a6462c-1955-45cf-886e-22cd7547421a",
   "metadata": {},
   "source": [
    "Answer3: The def statement creates a function."
   ]
  },
  {
   "cell_type": "markdown",
   "id": "2635ddd8-f6a8-469f-a49d-96e17a02e6d7",
   "metadata": {},
   "source": [
    "<b>Question4: What is the difference between a function and a function call?"
   ]
  },
  {
   "cell_type": "markdown",
   "id": "b0496222-84c7-440d-99ae-b6cff4b28e13",
   "metadata": {},
   "source": [
    "| Function | Function call |\n",
    "|----------|---------------|\n",
    "| A function is a code that is defined with a specific name and can be executed when called | A function call is the actual exection of a function at a paticular point in the programm |\n",
    "| Functions are defined as the def statement | Function call is encountered |"
   ]
  },
  {
   "cell_type": "markdown",
   "id": "3dd970e5-918c-49b2-a5ae-5f3a98c55ae0",
   "metadata": {},
   "source": [
    "<b>Question5: How many global scope are there in a Python program? How many local scopes?"
   ]
  },
  {
   "cell_type": "markdown",
   "id": "23ad9324-6f12-43ad-877f-082f8961f5ce",
   "metadata": {},
   "source": [
    "Answer5: Basically there is a one global scope in the python program. Apart from that local scopes is created whenever function is called."
   ]
  },
  {
   "cell_type": "markdown",
   "id": "42be6199-3dc1-423a-855f-c92aadb15707",
   "metadata": {},
   "source": [
    "<b>Question6: What happens to variables in a local scope when the function call returns?"
   ]
  },
  {
   "cell_type": "markdown",
   "id": "b50407af-4dda-42a7-a0cc-c43b13d7be23",
   "metadata": {},
   "source": [
    "Answer6: When the function call returns then the local scope get destroyed and the variables are forgotten."
   ]
  },
  {
   "cell_type": "markdown",
   "id": "087ba975-b373-4a1c-86ba-f2c5eb2dd15d",
   "metadata": {},
   "source": [
    "<b>Question7: What is the function of return value? Is it possible to have a return value in a expression?"
   ]
  },
  {
   "cell_type": "markdown",
   "id": "3936830d-daa6-446c-9f49-981e1600800c",
   "metadata": {},
   "source": [
    "Answer7: Basically in python return value is a function that returns to the calling script or the function when it completes its task. Yes it is possible to to have return value in a expression."
   ]
  },
  {
   "cell_type": "markdown",
   "id": "3844cc70-25f4-493a-b022-901e8482523a",
   "metadata": {},
   "source": [
    "<b>Question8: If a function does not have a return statement, what is the return value of a call to that function?"
   ]
  },
  {
   "cell_type": "markdown",
   "id": "04284e25-809d-4f61-a35c-8e8f57418a2d",
   "metadata": {},
   "source": [
    "Answer8: If there is not return statement for a function then its return value is NONE."
   ]
  },
  {
   "cell_type": "markdown",
   "id": "a84fbc2d-dd95-406c-ad60-f76c6a96c4b2",
   "metadata": {},
   "source": [
    "<b>Question9: How do you make a function variable refer to the global variable?"
   ]
  },
  {
   "cell_type": "markdown",
   "id": "471c912f-451c-47b6-a1f8-2e2937957ece",
   "metadata": {},
   "source": [
    "Answer9: To create a global variable inside a function we can use a global keyword."
   ]
  },
  {
   "cell_type": "markdown",
   "id": "e089b27e-4520-4030-9076-4bb1f5d2259b",
   "metadata": {},
   "source": [
    "<b>Question10: What is the data type of None?"
   ]
  },
  {
   "cell_type": "markdown",
   "id": "de0859e0-faff-4d4f-8383-958c6ddb825f",
   "metadata": {},
   "source": [
    "Answer10: The date type of none is Nonetype."
   ]
  },
  {
   "cell_type": "markdown",
   "id": "c1b98ae5-23c4-4073-93e5-1fb585fda8de",
   "metadata": {},
   "source": [
    "<b>Question11: What does the sentence import areallyourpetsnamederic do?"
   ]
  },
  {
   "cell_type": "markdown",
   "id": "325228f2-8678-461a-895d-175d43090f3e",
   "metadata": {},
   "source": [
    "Answer11: The statement 'import areallyourpetsnamederic' attempts to import a module named 'areallyourpetsnamedric'."
   ]
  },
  {
   "cell_type": "markdown",
   "id": "533a7008-86ff-43c8-b44b-b6fee7504c93",
   "metadata": {},
   "source": [
    "<b>Question12: If you had a bacon() feature in a spam module, what would you call if after importing spam?"
   ]
  },
  {
   "cell_type": "markdown",
   "id": "cf4b933d-1ecc-4120-ac20-f142ace62b93",
   "metadata": {},
   "source": [
    "Answer12: The function can be called with spam.bacon()"
   ]
  },
  {
   "cell_type": "markdown",
   "id": "b5d8afe0-8e40-4039-850e-e6d91c05d3c5",
   "metadata": {},
   "source": [
    "<b>Question13: What can you do to save a programme from crashing if it encounters an error?"
   ]
  },
  {
   "cell_type": "markdown",
   "id": "35a460fe-7b59-436c-a061-6d56eca5f7bd",
   "metadata": {},
   "source": [
    "Answer13: When we face any error, place that line of code in a try clause."
   ]
  },
  {
   "cell_type": "markdown",
   "id": "c08b9ab7-54c1-4d55-a7d8-ebd2fa145073",
   "metadata": {},
   "source": [
    "<b>Question14: What is the purpose of the try clause? What is the purpose of the except clause?"
   ]
  },
  {
   "cell_type": "markdown",
   "id": "377a52a6-7967-49ae-8ecb-275fb1888c54",
   "metadata": {},
   "source": [
    "Answer14: Purpose of try clause: The code that potentially cause an error goes in the try clause. Purpose of except clause: The code that executes if an error happens goes in a except clause"
   ]
  },
  {
   "cell_type": "code",
   "execution_count": null,
   "id": "b27b6550-29b1-4f24-919d-2b78b45a0042",
   "metadata": {},
   "outputs": [],
   "source": []
  },
  {
   "cell_type": "code",
   "execution_count": null,
   "id": "6506f55f-5342-416b-9ccd-cd799c65449d",
   "metadata": {},
   "outputs": [],
   "source": []
  },
  {
   "cell_type": "code",
   "execution_count": null,
   "id": "c7f6df72-eab2-49e0-90b8-cb9b3a07b3aa",
   "metadata": {},
   "outputs": [],
   "source": []
  }
 ],
 "metadata": {
  "kernelspec": {
   "display_name": "Python 3 (ipykernel)",
   "language": "python",
   "name": "python3"
  },
  "language_info": {
   "codemirror_mode": {
    "name": "ipython",
    "version": 3
   },
   "file_extension": ".py",
   "mimetype": "text/x-python",
   "name": "python",
   "nbconvert_exporter": "python",
   "pygments_lexer": "ipython3",
   "version": "3.10.6"
  }
 },
 "nbformat": 4,
 "nbformat_minor": 5
}
