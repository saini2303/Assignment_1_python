{
 "cells": [
  {
   "cell_type": "markdown",
   "id": "f7f2071c-2e4b-4a1d-97ae-edfd9234134b",
   "metadata": {},
   "source": [
    "<b> Question1: In Python, what is the difference between a built-in function and a user-defined function? Provide an example of each"
   ]
  },
  {
   "cell_type": "markdown",
   "id": "60216f57-7701-4de8-87eb-a185b1699fa3",
   "metadata": {},
   "source": [
    "Answer1: Built-in function:- Basically it is the function which include as the part of the python programming. These functions          are design to perform common tasks and operations that are often needed in the programming\n",
    "         Examples: print(), len(), min(), max(), str(), int(), list().\n",
    "         User-defined function:- This function are created by the programmer to perform specific tasks that are not covered by \n",
    "         built-in function.\n",
    "         Example: These function is defined using by 'def' keyword.     "
   ]
  },
  {
   "cell_type": "markdown",
   "id": "46781c63-b2b8-40c1-89c8-7b663a4c560b",
   "metadata": {},
   "source": [
    "<b> Question2: How can you pass arguments to a function in Python? Explain the difference between positional arguments and keyword arguments"
   ]
  },
  {
   "cell_type": "markdown",
   "id": "3e4ba0b9-0048-4a7f-aa51-84982b70d45e",
   "metadata": {},
   "source": [
    "Answer2: Passing argrument to a function in Python involves providing values to the function when you call it. There are two ways to pass an argruments (1). Positional arguments (2). keyword arguments"
   ]
  },
  {
   "cell_type": "markdown",
   "id": "713a88af-a1de-44a1-99de-71b99a9e061a",
   "metadata": {},
   "source": [
    "|Positional argument|keyword argument|\n",
    "|-------------------|----------------|\n",
    "|This argument pass to a function in the same order as the function's paramentrs are defined| This argrument are passed to a function using the parameter names as key, along with there corresponding values|\n",
    "|The values you provide are matched to the parameters based on their position| This allows you to specify which value correspond to which parameters|"
   ]
  },
  {
   "cell_type": "markdown",
   "id": "b66dff86-6d4d-46ea-9a7a-15f0ee75f78d",
   "metadata": {},
   "source": [
    "<b> Question3: What is the purpose of the return statement in a function? Can a function have multiple return statement? Explain with an example."
   ]
  },
  {
   "cell_type": "markdown",
   "id": "5ac31fbd-cacb-4037-829f-ba04a79fefce",
   "metadata": {},
   "source": [
    "Answer3: The 'return' statment is a function which give the purpose of specificity to the value or values that the function              should provide as it gives output when it is called.\n",
    "         Apart from that a function can have multiple 'return' statement, but onces the return statement is encountered, the \n",
    "         function exection immediatelly stops and the specified value is return to the caller.\n",
    "         "
   ]
  },
  {
   "cell_type": "code",
   "execution_count": 6,
   "id": "140237b8-4579-44c2-88cf-a34d674191ac",
   "metadata": {},
   "outputs": [
    {
     "name": "stdout",
     "output_type": "stream",
     "text": [
      "80.0\n"
     ]
    }
   ],
   "source": [
    "def calculate_discount (price, discount_percentage):\n",
    "    if discount_percentage < 0 or discount_percentage > 100:\n",
    "        return \"Invalid discount percentage \"\n",
    "    \n",
    "    discounted_price = price * (1 - discount_percentage / 100)\n",
    "    return discounted_price \n",
    "\n",
    "discounted_price_1 = calculate_discount(100, 20)\n",
    "discounted_price_2 = calculate_discount(150, 30)\n",
    "invalid_discount = calculate_discount(200, -10)\n",
    "\n",
    "print(discounted_price_1)"
   ]
  },
  {
   "cell_type": "code",
   "execution_count": 7,
   "id": "11687852-4ba3-4e48-9a09-165ef8c2a60f",
   "metadata": {},
   "outputs": [
    {
     "name": "stdout",
     "output_type": "stream",
     "text": [
      "105.0\n"
     ]
    }
   ],
   "source": [
    "print(discounted_price_2)"
   ]
  },
  {
   "cell_type": "code",
   "execution_count": 8,
   "id": "70a56c4b-6019-4e7c-86fe-8b64292ba66f",
   "metadata": {},
   "outputs": [
    {
     "name": "stdout",
     "output_type": "stream",
     "text": [
      "Invalid discount percentage \n"
     ]
    }
   ],
   "source": [
    "print(invalid_discount)"
   ]
  },
  {
   "cell_type": "markdown",
   "id": "8bba86f9-f9a0-4abc-b1ee-106a82676fc0",
   "metadata": {},
   "source": [
    "<b> Question4: What are lambda function in Python? How are they different from regular functions? Provide an example where a lambda function can be useful"
   ]
  },
  {
   "cell_type": "markdown",
   "id": "642024f7-8e15-4382-93b6-0d37d2f7d1c5",
   "metadata": {},
   "source": [
    "Answer4: Lambda function, also know as anonymous function, are a type of function in Python that can be defined in a single line using line using the lambda keyword. They are used to create small, simple functions without the need for a formal function using the def keyword.\n",
    "Lambda arguments : expression \n",
    "DIFFERENT BETWEEN LAMBDA FUNCTION AND REGULAR FUNCTION:- As lambda function is defined without a name that can take any number of arguments, but unlike normal function, evaluates return only one expression.\n",
    "\n"
   ]
  },
  {
   "cell_type": "code",
   "execution_count": 9,
   "id": "96ce36a9-1cfa-4420-85f6-ce03251a3a38",
   "metadata": {},
   "outputs": [
    {
     "name": "stdout",
     "output_type": "stream",
     "text": [
      "[0, 2, 3, 5, -8, -10]\n"
     ]
    }
   ],
   "source": [
    "numbers = [5, -10, 3, -8, 0, 2]\n",
    "\n",
    "sorted_numbers = sorted(numbers, key=lambda x:abs(x))\n",
    "print(sorted_numbers)"
   ]
  },
  {
   "cell_type": "markdown",
   "id": "686a10f3-07cf-477a-a39e-6de1f7f94417",
   "metadata": {},
   "source": [
    "<b> Question5: How does the concept of \"scope\" apply to functions in Python? Explain the difference between local scope and global scope"
   ]
  },
  {
   "cell_type": "markdown",
   "id": "54e151c9-d67b-40d4-93c3-79e92f4fd3d4",
   "metadata": {},
   "source": [
    "Answer5: In Python \"scope\" referes to the region of the code where a variable or identifier is accessible and can be referenced. The concept is all so applied to the other parts of the function.\n",
    "Basically there are two types of scope 1.Local scope 2.Global scope\n"
   ]
  },
  {
   "cell_type": "markdown",
   "id": "253941c4-4918-4dfe-b5dc-b2033c750a25",
   "metadata": {},
   "source": [
    "|Local scope|Global scope|\n",
    "|-----------|------------|\n",
    "|local scope refers to the scope within the function where variables are defined and can only be accessed within that function| global scope refers to the scope outside of any function, where variables are defined at the top level of a script or modules|"
   ]
  },
  {
   "cell_type": "markdown",
   "id": "dfc1c75e-143d-4b19-9778-b6e584c951d2",
   "metadata": {},
   "source": [
    "<b> Question6: How can you use the \"return\" statement in a Python function to return multiple values?"
   ]
  },
  {
   "cell_type": "markdown",
   "id": "b1d30f47-2a17-42dc-ae7e-ccf17c873546",
   "metadata": {},
   "source": [
    "Answer6: In Python function, you can use the return statement in a function to return multiple values by placing them inside a data structure like a tuple, list or dictionary. Which allows you to return multiple piece of data from a single function cell."
   ]
  },
  {
   "cell_type": "markdown",
   "id": "0af11c39-6092-48e8-a6d6-d678e24be4b8",
   "metadata": {},
   "source": [
    "<b> Question7: What is the difference between the \"pass by value\" and \"pass by reference\" concepts when it comes to function arguments in Python?"
   ]
  },
  {
   "cell_type": "markdown",
   "id": "fbec4ebf-e734-4da2-aab6-6bd696142ef9",
   "metadata": {},
   "source": [
    "Answer7: \"pass by value\" are the copy of the actual values of the variables is passed to the function and any modification made to the parameter inside the function do not affect the original variable outside the function.\n",
    "\"pass by reference\" are a reference or the memory address of the variable is the passed to the function and we can make modification to the parameters inside the function directly affect the original variable outside the function."
   ]
  },
  {
   "cell_type": "markdown",
   "id": "a2113033-f3a9-46e1-8af2-767b7010789b",
   "metadata": {},
   "source": [
    "<b> Question8: Create a function that can intake integer or decimal value and do following operations:\n",
    "    (a). Logarithmic function (logX) (b). Exponential function (exp(x)) (c).Power function with base2 (2x) (d). Square root|"
   ]
  },
  {
   "cell_type": "code",
   "execution_count": null,
   "id": "cd8cdd92-b8cc-46ea-bd2f-391a75b7952a",
   "metadata": {},
   "outputs": [],
   "source": [
    "import math\n",
    "\n",
    "def math_operations(value):\n",
    "    try:\n",
    "        #Logarithmic function (logX)\n",
    "        log_result = math.log(value)\n",
    "        \n",
    "        #Exponential function (exp(x))\n",
    "        exp_result = math.exp(value)\n",
    "        \n",
    "        #Power function with base 2 (2^x)\n",
    "        power_result = math.pow(2, value)\n",
    "        \n",
    "        #Square root\n",
    "        sqrt_result = math.sqrt(value)\n",
    "        \n",
    "        reyurn log_result, exp_result, power_result, sqrt_result\n",
    "        \n",
    "    except ValueError:\n",
    "        return \"Invalid input\"\n",
    "\n",
    "#Example usage\n",
    "input_value = float(input(\"Enter an integer or decimal value: \"))\n",
    "result = math_operations(input_value)\n",
    "if isinstance(results, tuple):\n",
    "    log_result, exp_result, power_result, sqrt_result = results\n",
    "    print(f\"Logarithmic function (log{input_value}): {log_result}\")\n",
    "    print(f\"Exponential function (exp({input_value})): {exp_result}\")\n",
    "    print(f\"Power function with base 2 (2^{input_value}): {power_result}\")\n",
    "    print(f\"Square root of {input_value}: {sqrt_result}\")\n",
    "else:\n",
    "    print(results)\n",
    "        "
   ]
  },
  {
   "cell_type": "markdown",
   "id": "632dd18a-afdd-4c66-88fb-0753fdf9a852",
   "metadata": {},
   "source": [
    "<b> Question9: Create a function that takes a full name as an argument and returns first name and last name"
   ]
  },
  {
   "cell_type": "code",
   "execution_count": null,
   "id": "7cef4521-9ffd-475a-a7e4-ba33d587a18a",
   "metadata": {},
   "outputs": [],
   "source": [
    "def extract_first_last_name(full_name):\n",
    "    names = full_name.split()\n",
    "    if len(names) >=2:\n",
    "        first_name = names[0]\n",
    "        last_name = ' '.join(names[1:])\n",
    "        return first_name, last_name\n",
    "else:\n",
    "    return \"Invalid full name\"\n",
    "\n",
    "#Example usage\n",
    "full_name = input(\"Enter a full name: \")\n",
    "first_name, last_name = extract_first_last_name(full_name)\n",
    "if isinstance(first_name, str) and isinstance(last_name, str):\n",
    "    print(f\"First Name: {first_name}\")\n",
    "    print(f\"Last_Name: {last_name}\")\n",
    "else\n",
    "    print(first_name)"
   ]
  }
 ],
 "metadata": {
  "kernelspec": {
   "display_name": "Python 3 (ipykernel)",
   "language": "python",
   "name": "python3"
  },
  "language_info": {
   "codemirror_mode": {
    "name": "ipython",
    "version": 3
   },
   "file_extension": ".py",
   "mimetype": "text/x-python",
   "name": "python",
   "nbconvert_exporter": "python",
   "pygments_lexer": "ipython3",
   "version": "3.10.6"
  }
 },
 "nbformat": 4,
 "nbformat_minor": 5
}
