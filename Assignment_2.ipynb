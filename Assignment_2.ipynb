{
 "cells": [
  {
   "cell_type": "markdown",
   "id": "f11d8b92-0885-47df-9d5c-3fad64f35af3",
   "metadata": {},
   "source": [
    "<b>Question1: What are the two values of the Boolean data type? How do you write them?"
   ]
  },
  {
   "cell_type": "markdown",
   "id": "67a02f8b-bd97-4f0a-b61d-dc3696352486",
   "metadata": {},
   "source": [
    "Answer2: True and False are the two values of the Boolean data type.\n",
    "         Basically it is writen as using capital T and capital F and the rest of the words in lowercase.\n",
    "    "
   ]
  },
  {
   "cell_type": "markdown",
   "id": "c08fac32-2dbc-4eea-9d11-b8e4cf34c447",
   "metadata": {},
   "source": [
    "<b>Question2: What are the three different types of Boolean operators?"
   ]
  },
  {
   "cell_type": "markdown",
   "id": "4cbcfbde-fe17-4eb5-89ba-6dd6bcb4f5a9",
   "metadata": {},
   "source": [
    "Answer2: In python there are three different types of Boolean operators which are mentioned below:-\n",
    "         AND, OR, NOT or AND NOT"
   ]
  },
  {
   "cell_type": "markdown",
   "id": "d58948cf-8cb2-4ab8-8fac-acfca847fd6e",
   "metadata": {},
   "source": [
    "<b>Question3: Make a list of each Boolean operator's truth tables (i.e every possible combination of Boolean values for the operator and what it evaluate)"
   ]
  },
  {
   "cell_type": "markdown",
   "id": "f56fba70-4e8c-4dd5-8502-bbb29b098093",
   "metadata": {},
   "source": [
    "Answer3: True and True is True\n",
    "         True and False is False\n",
    "         False and True is False\n",
    "         True or True is True\n",
    "         True or False is True\n",
    "         False or True is True\n",
    "         False or False is False\n",
    "         not True is False\n",
    "         not False is True\n",
    "         "
   ]
  },
  {
   "cell_type": "markdown",
   "id": "7918a891-6a78-40f3-bbbf-73f009a6d792",
   "metadata": {},
   "source": [
    "<b>Question4: What are the values of the following expressions?"
   ]
  },
  {
   "cell_type": "markdown",
   "id": "b3e7100b-03e9-45be-99f1-5d7f5a3d8518",
   "metadata": {},
   "source": [
    "Answer4: (5>4) and (3 == 5)    is False\n",
    "         not (5>4)             is False\n",
    "         (5>4) or (3 == 5)     is True\n",
    "         not ((5>4) or (3 == 5)) is False\n",
    "         (True and True) and (True == False) is False\n",
    "         (not False) or (not Ture) is True"
   ]
  },
  {
   "cell_type": "markdown",
   "id": "4a73b056-0e00-442f-85e2-31d9320851f6",
   "metadata": {},
   "source": [
    "<b>Question5: What are the six comparison operators?"
   ]
  },
  {
   "cell_type": "markdown",
   "id": "709b1c01-388e-49b0-bee6-dde20be9cc88",
   "metadata": {},
   "source": [
    "Answer5: ==, !=, <, >, <=, and >="
   ]
  },
  {
   "cell_type": "markdown",
   "id": "7466fa2a-e72f-4f45-bef6-d5ec18fc83b2",
   "metadata": {},
   "source": [
    "<b>Question6: How do you tell the difference between the equal to and assignment operators? Describe a condition and when you would use one."
   ]
  },
  {
   "cell_type": "markdown",
   "id": "a354d8ba-83d6-409d-9d88-b70ecb2a086b",
   "metadata": {},
   "source": [
    "Answer6: Basically == is the equal to operator that compares two values and evaluates to a Boolean.                                      Apart from that while = is he assignment operator that stores a value in a variable.\n",
    "         This contition of an expression is used in a flow control."
   ]
  },
  {
   "cell_type": "markdown",
   "id": "693658c8-0a98-4320-8147-8306745c50b9",
   "metadata": {},
   "source": [
    "<b>Question7: Identify the three blocks in the code:"
   ]
  },
  {
   "cell_type": "markdown",
   "id": "0c447182-ec52-4c18-9758-a4a7af1c8b72",
   "metadata": {},
   "source": [
    "Answer7: print('eggs')\n",
    "         if spam > 5:\n",
    "         print('bacon')\n",
    "         else:\n",
    "         print('ham')\n",
    "         print('spam')\n",
    "    "
   ]
  },
  {
   "cell_type": "markdown",
   "id": "113ec19a-13c1-410a-ae32-e48adfdf4c74",
   "metadata": {},
   "source": [
    "<b>Question8: Write code that prints Hello if 1 is stored in spam, prints Howdy if 2 is stored in spam, and prints Greetings! if anything else is stored in spam."
   ]
  },
  {
   "cell_type": "markdown",
   "id": "c3ee72ef-df69-4da2-a56e-b1000e7a7473",
   "metadata": {},
   "source": [
    "if spam == 1:\n",
    "    print(\"Hello\")\n",
    "elif spam == 2:\n",
    "    print(\"Howdy\")\n",
    "else:\n",
    "    print('Greetings!')"
   ]
  },
  {
   "cell_type": "markdown",
   "id": "1c369701-26f0-462d-9ddc-870738fb299c",
   "metadata": {},
   "source": [
    "<b>Question9: If your programme is stuck in an endless loop, what keys you'll press?"
   ]
  },
  {
   "cell_type": "markdown",
   "id": "183a40f1-a659-48b0-a25a-e475efa7dbf4",
   "metadata": {},
   "source": [
    "Answer9: If your programme is stuck in an endless loop then we have to Press CTRL-C to stop a program.\n"
   ]
  },
  {
   "cell_type": "markdown",
   "id": "6f65751f-603c-4e09-bd63-9af8ffaafb6a",
   "metadata": {},
   "source": [
    "<b>Question10: How can you tell the difference between break and continue?"
   ]
  },
  {
   "cell_type": "markdown",
   "id": "e1f9f4ec-b2a8-424b-8103-545f8cb5fc1a",
   "metadata": {},
   "source": [
    "| Break | Continue |\n",
    "|-------|----------|\n",
    "| Break statment immediateley terminates the loop and tranfers the control to the next statment after the loop | Continue statment immediately skips the remaining statments in the current iteration and proceeds to the next loop |\n",
    "| It is typically used to exit a loop | It is typically used to skip certain codes |"
   ]
  },
  {
   "cell_type": "markdown",
   "id": "1c65e7bb-ced7-4bf8-92e3-ec3aa95f68a3",
   "metadata": {},
   "source": [
    "<b>Question11: In a for loop, what is the difference between range(10), range(0,10) and range(0,10,1)?"
   ]
  },
  {
   "cell_type": "markdown",
   "id": "1470740a-bc36-483e-85ae-b041fe663dfc",
   "metadata": {},
   "source": [
    "Answer11: Basically they all do the same thing.\n",
    "          range(10) call ranges from 0 up to but not include 10.\n",
    "          range(0,10) it tells the loop to start from 0 \n",
    "          range(0,10,1) it tells the loop to increase the variable by 1 on each interval.\n",
    "          "
   ]
  },
  {
   "cell_type": "markdown",
   "id": "641b99eb-c219-49c4-84e3-e1c0767d9ab8",
   "metadata": {},
   "source": [
    "<b>Question12: Write a short program that prints the numbers 1 to 10 using a for loop. Then write an equivalent program that prints the numbers 1 to 10 using a while loop"
   ]
  },
  {
   "cell_type": "markdown",
   "id": "79749536-9ff0-45f0-8b30-b4b3f9ae5f74",
   "metadata": {},
   "source": [
    "Answer12: #Using a for loop"
   ]
  },
  {
   "cell_type": "code",
   "execution_count": null,
   "id": "54f7597a-b983-4817-8b0d-914bcae5864e",
   "metadata": {},
   "outputs": [
    {
     "name": "stdout",
     "output_type": "stream",
     "text": [
      "1\n",
      "2\n",
      "3\n",
      "4\n",
      "5\n",
      "6\n",
      "7\n",
      "8\n",
      "9\n",
      "10\n"
     ]
    }
   ],
   "source": [
    "for i in range(1,11):\n",
    "    print(i)"
   ]
  },
  {
   "cell_type": "markdown",
   "id": "7095a77f-ee0e-4e6b-ae24-9affb7c64650",
   "metadata": {},
   "source": [
    "#Using a while loop"
   ]
  },
  {
   "cell_type": "code",
   "execution_count": 14,
   "id": "e3aa94ee-3b69-48cc-a2f0-7bb5b199ed61",
   "metadata": {},
   "outputs": [
    {
     "name": "stdout",
     "output_type": "stream",
     "text": [
      "1\n",
      "2\n",
      "3\n",
      "4\n",
      "5\n",
      "6\n",
      "7\n",
      "8\n",
      "9\n",
      "10\n"
     ]
    }
   ],
   "source": [
    "num = 1\n",
    "while num <= 10:\n",
    "    print(num)\n",
    "    num += 1"
   ]
  },
  {
   "cell_type": "markdown",
   "id": "690ae93a-abeb-4735-9081-2e8a3bf1d270",
   "metadata": {},
   "source": [
    "<b>Question13: If you had a function named bacon() inside a module named spam, how would you call if after importing spam?"
   ]
  },
  {
   "cell_type": "markdown",
   "id": "f8e331fc-50db-429c-b583-b6053eebe10e",
   "metadata": {},
   "source": [
    "Answer13: This function can be called spam.bacon()"
   ]
  }
 ],
 "metadata": {
  "kernelspec": {
   "display_name": "Python 3 (ipykernel)",
   "language": "python",
   "name": "python3"
  },
  "language_info": {
   "codemirror_mode": {
    "name": "ipython",
    "version": 3
   },
   "file_extension": ".py",
   "mimetype": "text/x-python",
   "name": "python",
   "nbconvert_exporter": "python",
   "pygments_lexer": "ipython3",
   "version": "3.10.6"
  }
 },
 "nbformat": 4,
 "nbformat_minor": 5
}
