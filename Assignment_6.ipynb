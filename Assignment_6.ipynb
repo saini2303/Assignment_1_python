{
 "cells": [
  {
   "cell_type": "markdown",
   "id": "d1f376ed-3175-4133-a3ca-dbb38e489706",
   "metadata": {},
   "source": [
    "<b>Question1: What are keywords in python? Using the keyword library, print all the python keywords."
   ]
  },
  {
   "cell_type": "markdown",
   "id": "fc557f79-dd7e-4355-beb0-b2f495706b8d",
   "metadata": {},
   "source": [
    "Answer1: In python the keywords are predefined and reserved words which have special meaning in python. we can't use keyword as a variable name, function name or any other idetifier."
   ]
  },
  {
   "cell_type": "code",
   "execution_count": 4,
   "id": "039c9fae-3492-4d5e-9f3c-5e8fae3d71dc",
   "metadata": {},
   "outputs": [
    {
     "name": "stdout",
     "output_type": "stream",
     "text": [
      "['False', 'None', 'True', 'and', 'as', 'assert', 'async', 'await', 'break', 'class', 'continue', 'def', 'del', 'elif', 'else', 'except', 'finally', 'for', 'from', 'global', 'if', 'import', 'in', 'is', 'lambda', 'nonlocal', 'not', 'or', 'pass', 'raise', 'return', 'try', 'while', 'with', 'yield']\n"
     ]
    }
   ],
   "source": [
    "all_keywords = keyword.kwlist\n",
    "print(all_keywords)"
   ]
  },
  {
   "cell_type": "markdown",
   "id": "0945b999-4d72-4091-a974-3d4971c88eec",
   "metadata": {},
   "source": [
    "<b>Question2: What are the rules to create variables in python?"
   ]
  },
  {
   "cell_type": "markdown",
   "id": "83356a3f-e783-4d92-96d8-309f8d29eaa9",
   "metadata": {},
   "source": [
    "Answer: Rules to create variables in python\n",
    "       (1) Variable name cannot start with a number\n",
    "       (2) Variable name must start with a letter or with the underscore character.\n",
    "       (3) Variable name can only contain alphs-numeric characters and underscores\n",
    "       (4) Variable names are case-sensitive.\n",
    "    "
   ]
  },
  {
   "cell_type": "markdown",
   "id": "12404418-feaa-4b04-9293-8e09e9e2ef8c",
   "metadata": {},
   "source": [
    "<b>Question3: What are the standards and conventions followed for the nomeclature of variable in python to improve code readability and maintainability?"
   ]
  },
  {
   "cell_type": "markdown",
   "id": "9ea5a0f2-7371-4a2d-ab62-5832bc53157b",
   "metadata": {},
   "source": [
    "Answer3: Python there are standards conventions and naming conventions which should be followed to improve code readability and maintainability which are mentioned below:-\n",
    "       (1) Use descriptive and meaningful names:\n",
    "       (2) Use lowercase letters with underscores:\n",
    "       (3) Avoid using reserved keywords:\n",
    "       (4) follow naming convetions for specific cases:\n"
   ]
  },
  {
   "cell_type": "markdown",
   "id": "72972a61-7d40-4c60-96de-beb2b6cfe6f2",
   "metadata": {},
   "source": [
    "<b>Question4: What will happen if a keywords is used as a variable name?"
   ]
  },
  {
   "cell_type": "markdown",
   "id": "95108d2b-b11d-4fdc-a216-8956ff226e3c",
   "metadata": {},
   "source": [
    "Answer4: Keywords are not allowed to be used as a variable names because they establish the syntax rules and structure of the language. Below is the example if we encounter using a keyword as a variable name\n"
   ]
  },
  {
   "cell_type": "code",
   "execution_count": 6,
   "id": "95ff8d74-972e-44cc-afdb-503f93cce21f",
   "metadata": {},
   "outputs": [
    {
     "ename": "SyntaxError",
     "evalue": "invalid syntax (182722112.py, line 1)",
     "output_type": "error",
     "traceback": [
      "\u001b[0;36m  Cell \u001b[0;32mIn [6], line 1\u001b[0;36m\u001b[0m\n\u001b[0;31m    if = 10\u001b[0m\n\u001b[0m       ^\u001b[0m\n\u001b[0;31mSyntaxError\u001b[0m\u001b[0;31m:\u001b[0m invalid syntax\n"
     ]
    }
   ],
   "source": [
    "if = 10"
   ]
  },
  {
   "cell_type": "markdown",
   "id": "0c715dd9-b05f-4a36-b709-03b6051ce646",
   "metadata": {},
   "source": [
    "<b>Question5: For what purpose def keywords is used?"
   ]
  },
  {
   "cell_type": "markdown",
   "id": "9a4ac0ae-3a71-468c-81c4-10e48a828c19",
   "metadata": {},
   "source": [
    "Answer5: def keyword is used to create, (or define) a function."
   ]
  },
  {
   "cell_type": "code",
   "execution_count": 7,
   "id": "8209bc71-2576-43ed-ac19-63f9c99123c1",
   "metadata": {},
   "outputs": [],
   "source": [
    "def greet(name):\n",
    "    print (\"Hello, \" + name + \"!\")"
   ]
  },
  {
   "cell_type": "code",
   "execution_count": 8,
   "id": "8c5f1a1c-933c-4649-bf99-c158757fb546",
   "metadata": {},
   "outputs": [
    {
     "name": "stdout",
     "output_type": "stream",
     "text": [
      "Hello, tom!\n"
     ]
    }
   ],
   "source": [
    "greet(\"tom\")"
   ]
  },
  {
   "cell_type": "markdown",
   "id": "6074367d-20ed-446c-9b8f-855d83445a6a",
   "metadata": {},
   "source": [
    "<b>Question6: What is the operation of this special character '\\'?"
   ]
  },
  {
   "cell_type": "markdown",
   "id": "69b88559-d2f8-4612-a218-85d0f8a22c2a",
   "metadata": {},
   "source": [
    "Answer6: In python strings, the backslash \"\\\" is a special character, also called the \"escape\" character. It is also used to represent witespcae.\n",
    "For example : \"\\t\" is a tab, \"\\n\" is a newline and \"\\r\" is a carriage return."
   ]
  },
  {
   "cell_type": "markdown",
   "id": "5d93fdd6-d270-48a1-bbe1-0e350d86d784",
   "metadata": {},
   "source": [
    "<b>Question7: Give an example of the following conditions:"
   ]
  },
  {
   "cell_type": "markdown",
   "id": "d898aca2-15cf-48f5-964b-2ef541655684",
   "metadata": {},
   "source": [
    "(1) Homogeneous list: its a list where all the elements have the same data type."
   ]
  },
  {
   "cell_type": "code",
   "execution_count": null,
   "id": "2c8d8f84-9164-431a-bdfb-e32b9d5b5c7c",
   "metadata": {},
   "outputs": [],
   "source": [
    "my_list = [1, 2, 3, 4, 5]"
   ]
  },
  {
   "cell_type": "markdown",
   "id": "ffb05a4e-d1cf-48ff-9f84-0504ff942b09",
   "metadata": {},
   "source": [
    "(2) Heterogeneous set: This means the set can contain elements of different data type."
   ]
  },
  {
   "cell_type": "code",
   "execution_count": null,
   "id": "6eac8bfd-365f-43a1-b6f7-4ad09ef82071",
   "metadata": {},
   "outputs": [],
   "source": [
    "my_set = [4, 'apple', True, 3.244,]"
   ]
  },
  {
   "cell_type": "markdown",
   "id": "0888ca57-1ac5-4249-b8d2-7a4eaa7d864c",
   "metadata": {},
   "source": [
    "(3) Homogeneous tuple: Where all the elements have same data type."
   ]
  },
  {
   "cell_type": "code",
   "execution_count": null,
   "id": "9d488b5a-a138-4b5b-a9b0-6632bdf04658",
   "metadata": {},
   "outputs": [],
   "source": [
    "my_tuple = (1, 2, 3, 4, 5)"
   ]
  },
  {
   "cell_type": "markdown",
   "id": "516730e2-311a-4d6e-bc90-a198fee61bea",
   "metadata": {},
   "source": [
    "<b>Question8: Explain the mutuable and immutable data type with proper explanation and examples."
   ]
  },
  {
   "cell_type": "markdown",
   "id": "5f857da4-1279-43a2-a1a8-efb8c3998891",
   "metadata": {},
   "source": [
    "Answer8:\n",
    "(1) Mutable Data type:\n",
    "    This data are those which can be modified after they have created.\n",
    "    When we modify a mutuable object, it directly affects the original object in memory.\n",
    "    Example of mutuable data type is list, dict and set.\n"
   ]
  },
  {
   "cell_type": "code",
   "execution_count": 15,
   "id": "fb044a4a-bfa4-40a8-a684-1bcded7a4e86",
   "metadata": {},
   "outputs": [],
   "source": [
    "my_list = [1, 2, 3]\n",
    "my_dict = {'name': 'Tom', 'age':24}"
   ]
  },
  {
   "cell_type": "code",
   "execution_count": 16,
   "id": "2b513d28-bd8b-4b41-9ba6-ee7a359ce83f",
   "metadata": {},
   "outputs": [],
   "source": [
    "(2) Immutable Data type:\n",
    "    This data are those which can't be modified after they have created.\n",
    "    Any object which have to modify they have to create a new object with an updated value.\n",
    "    Example of immutuable data type is int, float, bool, str and tuple."
   ]
  },
  {
   "cell_type": "code",
   "execution_count": null,
   "id": "1183b628-a140-4c2b-b7fc-37594b51be09",
   "metadata": {},
   "outputs": [],
   "source": [
    "x = 10\n",
    "y = 'Hello'"
   ]
  },
  {
   "cell_type": "code",
   "execution_count": null,
   "id": "a33f41e1-7749-4d3e-ac08-f8957d3b2ccd",
   "metadata": {},
   "outputs": [],
   "source": [
    "x = x + 5\n",
    "y = y + 'World'"
   ]
  },
  {
   "cell_type": "code",
   "execution_count": null,
   "id": "d8a7df36-417d-45f5-a269-ee809ce83435",
   "metadata": {},
   "outputs": [],
   "source": [
    "Question9: Write a code to create the given structure using only for loop."
   ]
  },
  {
   "cell_type": "code",
   "execution_count": 20,
   "id": "94e30922-c1e6-4904-b063-f4ee433b945c",
   "metadata": {},
   "outputs": [
    {
     "name": "stdout",
     "output_type": "stream",
     "text": [
      "        * \n",
      "      * * * \n",
      "    * * * * * \n",
      "  * * * * * * * \n",
      "* * * * * * * * * \n"
     ]
    }
   ],
   "source": [
    "#    *\n",
    "#   ***\n",
    "#  *****\n",
    "# *******\n",
    "#*********\n",
    "n = 5\n",
    "for i in range(n):\n",
    "    for j in range (n-i-1):\n",
    "        print(' ', end=' ')\n",
    "    for k in range(2*i+1):\n",
    "        print('*', end=' ')\n",
    "    print()"
   ]
  },
  {
   "cell_type": "markdown",
   "id": "3800461c-e203-443d-ba05-ead82e28ce52",
   "metadata": {},
   "source": [
    "<b>Question10: Write a code to create the given structure using while loop."
   ]
  },
  {
   "cell_type": "code",
   "execution_count": 21,
   "id": "d98ab164-5f06-4ff7-bea1-25847551f153",
   "metadata": {},
   "outputs": [
    {
     "name": "stdin",
     "output_type": "stream",
     "text": [
      "Enter the no. of rows: 11\n"
     ]
    },
    {
     "name": "stdout",
     "output_type": "stream",
     "text": [
      " |||||||||||\n",
      "  |||||||||\n",
      "   |||||||\n",
      "    |||||\n",
      "     |||\n",
      "      |\n"
     ]
    }
   ],
   "source": [
    "n= int(input(\"Enter the no. of rows:\"))\n",
    "c=0\n",
    "for i in range(n,0,-2):\n",
    "    print(' '*c,end=' ')\n",
    "    c+=1\n",
    "    print('|'*i)"
   ]
  },
  {
   "cell_type": "code",
   "execution_count": null,
   "id": "7d5404fb-7d05-4e50-ab71-b2fbb3e9ef0d",
   "metadata": {},
   "outputs": [],
   "source": []
  }
 ],
 "metadata": {
  "kernelspec": {
   "display_name": "Python 3 (ipykernel)",
   "language": "python",
   "name": "python3"
  },
  "language_info": {
   "codemirror_mode": {
    "name": "ipython",
    "version": 3
   },
   "file_extension": ".py",
   "mimetype": "text/x-python",
   "name": "python",
   "nbconvert_exporter": "python",
   "pygments_lexer": "ipython3",
   "version": "3.10.6"
  }
 },
 "nbformat": 4,
 "nbformat_minor": 5
}
