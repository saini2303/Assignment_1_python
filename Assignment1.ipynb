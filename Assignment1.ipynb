{
 "cells": [
  {
   "cell_type": "markdown",
   "id": "c13f863e-f90d-47c7-b95b-90d48dbc64c5",
   "metadata": {},
   "source": [
    "<b> <u>Question1. In the below elements which of them are values or an expression?"
   ]
  },
  {
   "cell_type": "markdown",
   "id": "cdfd96da-33b0-4a15-8304-59489749bbd1",
   "metadata": {},
   "source": [
    "Answer1.   *     - Expression\n",
    "         \"Hello\" - Values\n",
    "          -87.8  - Values\n",
    "            -    - Expression\n",
    "            /    - Expression\n",
    "            +    - Expression\n",
    "            6    - Values"
   ]
  },
  {
   "cell_type": "markdown",
   "id": "5f3c1167-2d90-4e02-b349-04d1686ba6f5",
   "metadata": {},
   "source": [
    "<b><u> Question2. What is the difference between String and Variable?"
   ]
  },
  {
   "cell_type": "markdown",
   "id": "79000bb1-b273-40c0-8a44-672ae7f2d876",
   "metadata": {},
   "source": [
    "| String | Variable |\n",
    "|--------|----------|\n",
    "| 1. Basically string is a data type use to represent sequence of characters | 1. Variable is a name that refers to a value in memory |\n",
    "| 2. It is either enclosed in (\") single quotes or (\"\") double quotes | 2. It is used to store or manipulate data |\n",
    "| 3. String can be assigned to variable or can be used directly in expression | 3. Variable can hold different types of values, including string |\n",
    "| 4. #Strinh Example | 4. #Variable Example |\n",
    "| name =\"Tom\" #\"Tom\" is a string | age=24 # 24 is a variable |\n",
    "| print(name) #Output:Tom | print(age) #Output:24 |"
   ]
  },
  {
   "cell_type": "markdown",
   "id": "25eeb26b-cacc-4e70-b8dd-f619e06ad78e",
   "metadata": {},
   "source": [
    "<b><u> Question3. Describe three different data types?"
   ]
  },
  {
   "cell_type": "markdown",
   "id": "2f05e753-f64e-4f5e-9500-2a23e8abeaa3",
   "metadata": {},
   "source": [
    "Answer3. There are many numbers of Data types in python like String data type, sequence data type, maping data type, boolean data type and numeric data type . So below i am describing three data types."
   ]
  },
  {
   "cell_type": "markdown",
   "id": "1b2fe18f-b2be-4b36-9ba5-d93d4dda8993",
   "metadata": {},
   "source": [
    "| Numeric data type | String data type | Boolean data type |\n",
    "|-------------------|------------------|-------------------|\n",
    "| 1. It represent numbers and are used for performing mathematical operations | 1. It is used to represent sequence of characters | 1. It is used to represent the truth values True and False |\n",
    "| 2. They are divided in two subtypes (a) Integer(int) (b) Floating-point(float) | 2. String are enclosed in either single quotes (\") or double quotes (\"\") | 2. It is used in logical operations and comparisons |\n",
    "| 3. For Example: -5,0,10,3.14 | 3. For Example\" \"Hello\", 'Python', \"12\" | 3. For Example: True, False |"
   ]
  },
  {
   "cell_type": "markdown",
   "id": "88d521cc-d4fd-4317-89cc-ba8bb06e6f8c",
   "metadata": {},
   "source": [
    "<b> <u>Question4. What is an expression made up of? What do all expression do?"
   ]
  },
  {
   "cell_type": "markdown",
   "id": "57a72049-90f5-4525-b74c-589bbcdc4909",
   "metadata": {},
   "source": [
    "Answer4. Basically expression is a programming which is made up of one or more \n",
    "         values,\n",
    "         variables, \n",
    "         operators and \n",
    "         function cells that produce result.\n",
    "         Expressions are the building blocks of programs and sever various purposes like:-\n",
    "         1.Computation\n",
    "         2.Assignment\n",
    "         3.Evaluation\n",
    "         4.Desicision-making\n",
    "         Expression reduce down to a single value"
   ]
  },
  {
   "cell_type": "markdown",
   "id": "551414fb-718f-41a6-813b-c84c6afb6828",
   "metadata": {},
   "source": [
    "<b><u>Question5. The assignment statements, like spam=10. What is the difference between an expression and a statement?"
   ]
  },
  {
   "cell_type": "markdown",
   "id": "0815b460-e743-401a-b97c-3a3d4b6c6d78",
   "metadata": {},
   "source": [
    "Answer5. Basically in this python language expression and statement is a two different concept:-"
   ]
  },
  {
   "cell_type": "markdown",
   "id": "a45d79fe-fc13-4789-af6b-88164e0e9843",
   "metadata": {},
   "source": [
    "| Expression | Statement |\n",
    "|------------|-----------|\n",
    "| 1. Expression is a combination of values,variables,operators and function cells that produces value | 1. Statment is a complete unit of code that perform a specific task |\n",
    "| 2. It can be a single value or a combination of multiple operators | 2. It is used to control the flow of the program, perform assignment or define functions |\n",
    "| 3. Example of Expression | 3. Example of Statement |\n",
    "| '5 + 3' | 'spam = 10' |\n",
    "| \"Hello\" + \"World\" | 'if x > 5: print |"
   ]
  },
  {
   "cell_type": "markdown",
   "id": "fa1865d7-ded1-4969-b254-5f54a9979738",
   "metadata": {},
   "source": [
    "In the assignment statement 'spam=10 \n",
    "Means we have assign the value '10' to the variable 'spam'"
   ]
  },
  {
   "cell_type": "markdown",
   "id": "a21e11da-5460-4f4e-8151-350cc95fcce7",
   "metadata": {},
   "source": [
    "<b><u>Question6. After running the following code, what does the variable bacon contain? \n",
    "    bacon =22\n",
    "    bacon +1"
   ]
  },
  {
   "cell_type": "code",
   "execution_count": 7,
   "id": "a07ed42d-5ab4-458b-bd21-f8145acb505c",
   "metadata": {},
   "outputs": [
    {
     "data": {
      "text/plain": [
       "23"
      ]
     },
     "execution_count": 7,
     "metadata": {},
     "output_type": "execute_result"
    }
   ],
   "source": [
    "bacon =22\n",
    "bacon +1"
   ]
  },
  {
   "cell_type": "markdown",
   "id": "a6558d61-7bb9-4ecf-b094-ae7b7c31f03f",
   "metadata": {},
   "source": [
    "After running the following code we contain Output of 23"
   ]
  },
  {
   "cell_type": "markdown",
   "id": "acccabea-a54c-467d-85f5-79ab98e220fc",
   "metadata": {},
   "source": [
    "<b> <u>Question7. What should the value of the following two terms be?  'spam' + 'spamspam'  'spam' * 3"
   ]
  },
  {
   "cell_type": "markdown",
   "id": "633df6b4-9631-4f3e-af98-0a353af21a82",
   "metadata": {},
   "source": [
    "Answer7. 'spam' + 'spamspam' = 'spamspamspam'\n",
    "         'spam' * 3 = 'spamspamspam'"
   ]
  },
  {
   "cell_type": "markdown",
   "id": "ad0b359c-dd5c-44a0-980f-8508fc1a1983",
   "metadata": {},
   "source": [
    "<b><u> Question8. Why is eggs a valid variable name while 100 is invalid?"
   ]
  },
  {
   "cell_type": "markdown",
   "id": "2aac3dc1-0d69-444c-a01f-e07b37b17f32",
   "metadata": {},
   "source": [
    "Answer8. As per the python eggs is valid variable name while 100 is invalid because variable name cannot begin with a number."
   ]
  },
  {
   "cell_type": "markdown",
   "id": "1af07853-6860-4e46-8766-239e8870502f",
   "metadata": {},
   "source": [
    "<b> <u>Question9. What three functions can be used to get the integer, floating-point number, or string version of a value ?"
   ]
  },
  {
   "cell_type": "markdown",
   "id": "d506de9e-8f68-47fb-bf6a-e7e42c4c5fe9",
   "metadata": {},
   "source": [
    "| interger function | floating-point function | string function |\n",
    "|-------------------|-------------------------|-----------------|\n",
    "| int() function is used to convert a value into a intger | float() function is used to convert a value into a floating-point number | str() function is used to convert a value into a string |\n",
    "| Example of integer function | Example of floating-point function | Example of string function |\n",
    "| num = int(\"10\") | num = float(\"3.23\") | text = str(44) |"
   ]
  },
  {
   "cell_type": "markdown",
   "id": "4e715b9a-3fdc-4682-a658-b0c54f45d65c",
   "metadata": {},
   "source": [
    "<b> <u>Question10. Why does this expression cause an error> How can you fix it? 'I have eaten'+99+'burritos'"
   ]
  },
  {
   "cell_type": "markdown",
   "id": "f9226d80-6f5c-459b-9a44-c963b8c066bb",
   "metadata": {},
   "source": [
    "Answer10. The above expression is causing error because we are trying to connent a string with a integer directly. \n",
    "          To fix this error we have to convert the integer '99' into a string before connecting it into a another string. \n",
    "          str() function is used to convert integer into a string \n",
    "          'I have eaten' + str(99) + 'burritos'"
   ]
  }
 ],
 "metadata": {
  "kernelspec": {
   "display_name": "Python 3 (ipykernel)",
   "language": "python",
   "name": "python3"
  },
  "language_info": {
   "codemirror_mode": {
    "name": "ipython",
    "version": 3
   },
   "file_extension": ".py",
   "mimetype": "text/x-python",
   "name": "python",
   "nbconvert_exporter": "python",
   "pygments_lexer": "ipython3",
   "version": "3.10.6"
  }
 },
 "nbformat": 4,
 "nbformat_minor": 5
}
