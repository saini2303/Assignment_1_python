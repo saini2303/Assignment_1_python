{
 "cells": [
  {
   "cell_type": "markdown",
   "id": "44bd70f8-3d23-4352-9aee-bb6d200a162b",
   "metadata": {},
   "source": [
    "<b>Question1: What exactly is []?"
   ]
  },
  {
   "cell_type": "markdown",
   "id": "607a3ceb-8989-4945-a91c-49dcd8c7b055",
   "metadata": {},
   "source": [
    "Answer1: Basically this is know as Index Brackets which have many uses in Python. Index Brackets are used to write expression which express a list."
   ]
  },
  {
   "cell_type": "markdown",
   "id": "e46d8c3c-0843-4bfe-bbbf-605e87e5933d",
   "metadata": {},
   "source": [
    "<b>Question2: In a list of values stored in a variable called spam, how would you assign the value 'hello' as the third value? (Assume[2,4,6,8,10] are in spam)"
   ]
  },
  {
   "cell_type": "code",
   "execution_count": null,
   "id": "8df2bf44-9d8b-41a6-8224-176e7773fe52",
   "metadata": {},
   "outputs": [],
   "source": [
    "spam = [2,4,6,8,10]\n",
    "spam[2] = 'hello'"
   ]
  },
  {
   "cell_type": "markdown",
   "id": "d0126e58-68ad-4401-a4c3-7f2ab93f3fc8",
   "metadata": {},
   "source": [
    "<b>Question3: What is the value of spam[int(int('3'*2)/11)]?"
   ]
  },
  {
   "cell_type": "code",
   "execution_count": null,
   "id": "704618c3-2795-47de-a4ff-e9c0a58385e5",
   "metadata": {},
   "outputs": [],
   "source": [
    "Answer3: Basically '3*2 is the string '33' , then it passed to the int() then diveed by 11"
   ]
  },
  {
   "cell_type": "markdown",
   "id": "3898cdb9-231e-477e-a3ef-38c880490a4a",
   "metadata": {},
   "source": [
    "<b>Question4: What is the value of spam[-1]?"
   ]
  },
  {
   "cell_type": "markdown",
   "id": "411a8d1a-c315-4636-8248-3a2aa86c1a64",
   "metadata": {},
   "source": [
    "Answer4: In python spam[-1] is the last element from thje list which is stored as a variable 'spam'. Suppose the list spam contain [2,4,6,8,10], so the value of spam[-1] would be 10."
   ]
  },
  {
   "cell_type": "markdown",
   "id": "8bdcd556-4caa-49a9-965e-0130829c2b6c",
   "metadata": {},
   "source": [
    "<b>Question5: What is the value of spam[:2]?"
   ]
  },
  {
   "cell_type": "markdown",
   "id": "975f3f99-47a7-446b-8b5c-b9b05ef43890",
   "metadata": {},
   "source": [
    "Answer5: In python it sublist the element from the beggining of the list stored in the variable up to the index 2. Suppose the list spam contain [2,4,6,8,10], so the value of spam[:2] would be [2,4]."
   ]
  },
  {
   "cell_type": "markdown",
   "id": "d8bb2dc0-a14d-4582-94e4-986a50703029",
   "metadata": {},
   "source": [
    "<b>Lets pretend bacon has the list [3.14, 'cat, '11, 'cat,'True] for the next three questions."
   ]
  },
  {
   "cell_type": "markdown",
   "id": "2b995f8c-4cf7-4d36-a994-025ec2a37ef7",
   "metadata": {},
   "source": [
    "<b>Question6: Whay is the value of bacon.index('cat')?"
   ]
  },
  {
   "cell_type": "markdown",
   "id": "6c6c6a87-63d0-4868-b03f-921d66437043",
   "metadata": {},
   "source": [
    "Answer6: 1"
   ]
  },
  {
   "cell_type": "markdown",
   "id": "01965947-29bb-4950-a9af-ad65a64c14ea",
   "metadata": {},
   "source": [
    "<b>Question7: How does bacon.append(99) change the look of the list value in bacon?"
   ]
  },
  {
   "cell_type": "markdown",
   "id": "40c3caa8-0d3e-4334-b820-431d60742813",
   "metadata": {},
   "source": [
    "Answer7: [3.14,'cat',11,'cat',True,99]"
   ]
  },
  {
   "cell_type": "markdown",
   "id": "c3b8e9c3-f970-463d-8a2e-b442d50d70f6",
   "metadata": {},
   "source": [
    "<b>Question8: How does bacon.remove('cat) change the look of the list in bacon?"
   ]
  },
  {
   "cell_type": "markdown",
   "id": "ee3c574b-c1d7-4bcb-b372-0a81d7048d7f",
   "metadata": {},
   "source": [
    "Answer8: [3.14,11,'cat',True]"
   ]
  },
  {
   "cell_type": "markdown",
   "id": "940cce98-2836-4472-854c-930ae2aabebf",
   "metadata": {},
   "source": [
    "<b>Question9: What are the list concatenation and list replication operators?"
   ]
  },
  {
   "cell_type": "code",
   "execution_count": null,
   "id": "51ad90dc-5b59-4034-8c92-5b348d17e792",
   "metadata": {},
   "outputs": [],
   "source": [
    "Answer9: In python the operator of list concatenation is + and the operator for replication is *."
   ]
  },
  {
   "cell_type": "markdown",
   "id": "2c019106-4a0d-4fc5-8396-c6e32859cd91",
   "metadata": {},
   "source": [
    "<b>Question10: What is the difference between the list methods append() and insert()?"
   ]
  },
  {
   "cell_type": "markdown",
   "id": "512598aa-7592-4372-97ab-4962cc3ebedc",
   "metadata": {},
   "source": [
    "Answer10: The main difference is that append() will add values in the end of the list and insert() can add anywhere in the list."
   ]
  },
  {
   "cell_type": "markdown",
   "id": "b8757160-2988-4039-9f53-eccce55f8710",
   "metadata": {},
   "source": [
    "<b>Question11: What are the two methods for removing items from a list?"
   ]
  },
  {
   "cell_type": "markdown",
   "id": "0b7eff03-a131-46fb-a89f-b528ad9e7567",
   "metadata": {},
   "source": [
    "Answer11: In python there are multiple ways to remove the items from the list: (1). Using the remove()method. (2). Using the del operator."
   ]
  },
  {
   "cell_type": "markdown",
   "id": "8f66e9ca-b8b8-4619-9f95-37016eda0e0d",
   "metadata": {},
   "source": [
    "<b>Question12: Describe how list values and string values are identical."
   ]
  },
  {
   "cell_type": "markdown",
   "id": "1c333995-f2bd-4787-93a2-cabfb1e5ec53",
   "metadata": {},
   "source": [
    "Answer12: In python both list values and string values are identicals in some then the other way like indexing, slicing, iteration and length."
   ]
  },
  {
   "cell_type": "markdown",
   "id": "21e027dd-ae16-4b40-b5e1-4f226f4804bb",
   "metadata": {},
   "source": [
    "<b>Question13: What's the difference between tuples and list?"
   ]
  },
  {
   "cell_type": "markdown",
   "id": "3447be25-028b-4b9c-86cf-290f0761a359",
   "metadata": {},
   "source": [
    "| Tuples | List |\n",
    "|--------|------|\n",
    "| Tuples are immutable and they can't be changed | Lists are mutable they can be added, removed and changed |\n",
    "| Tuples are written using parentheses | List are used with the square brackets |"
   ]
  },
  {
   "cell_type": "markdown",
   "id": "3e2c1e16-de98-4de1-95bb-139400cd8dbc",
   "metadata": {},
   "source": [
    "<b>Question14: How do you type a tuple value that only contains the integer 42?"
   ]
  },
  {
   "cell_type": "code",
   "execution_count": 6,
   "id": "6545a1bd-64aa-4e2f-b1d8-ccc54d784219",
   "metadata": {},
   "outputs": [
    {
     "name": "stdout",
     "output_type": "stream",
     "text": [
      "(42,)\n"
     ]
    }
   ],
   "source": [
    "my_tuple = (42,)\n",
    "print(my_tuple)"
   ]
  },
  {
   "cell_type": "markdown",
   "id": "3c3d807f-b4ff-47fd-844e-a9bd163db06d",
   "metadata": {},
   "source": [
    "<b>Question15: How do you get a list value's tuple form? How do you get a tuple value's list form?"
   ]
  },
  {
   "cell_type": "markdown",
   "id": "960d3208-cbc8-4088-a5b8-5a8ec96451cf",
   "metadata": {},
   "source": [
    "Answer15: List value's tuple form:-"
   ]
  },
  {
   "cell_type": "code",
   "execution_count": 7,
   "id": "0f80bff8-2c42-4d66-9ef4-9b2ce0d106b6",
   "metadata": {},
   "outputs": [
    {
     "name": "stdout",
     "output_type": "stream",
     "text": [
      "(1, 2, 3, 4, 5)\n"
     ]
    }
   ],
   "source": [
    "my_list = [1,2,3,4,5]\n",
    "my_tuple = tuple(my_list)\n",
    "print(my_tuple)"
   ]
  },
  {
   "cell_type": "markdown",
   "id": "917f3bd8-f3af-4731-9e56-508740440e3e",
   "metadata": {},
   "source": [
    "Answer15: Tuple value's list form:-"
   ]
  },
  {
   "cell_type": "code",
   "execution_count": 10,
   "id": "b4974bd8-323f-4a35-9cda-7ef9fff1993d",
   "metadata": {},
   "outputs": [
    {
     "name": "stdout",
     "output_type": "stream",
     "text": [
      "[1, 2, 3, 4, 5]\n"
     ]
    }
   ],
   "source": [
    "my_tuple = [1,2,3,4,5]\n",
    "my_list = list(my_tuple)\n",
    "print(my_list)"
   ]
  },
  {
   "cell_type": "markdown",
   "id": "d11d5e82-7973-4d97-9e44-f554d3675275",
   "metadata": {},
   "source": [
    "<b>Question16: Variables that \"contain\" list values are not necessarily lists themselves. Instead, what do they contain?"
   ]
  },
  {
   "cell_type": "markdown",
   "id": "e322213b-eaaf-455a-b43c-f1236a7dfe9f",
   "metadata": {},
   "source": [
    "Answer16: Variables that \"contain\" list values are not necessarily lists basically they contain references of list values."
   ]
  },
  {
   "cell_type": "markdown",
   "id": "ad6ec485-84c1-4483-906e-38184e4ad6de",
   "metadata": {},
   "source": [
    "<b>Question17: How do you distinguish between copy.copy() and copy.deepcopy()?"
   ]
  },
  {
   "cell_type": "markdown",
   "id": "fc622648-b40b-4b87-87e9-b7b899a1db3e",
   "metadata": {},
   "source": [
    "Answer17: The main difference between both is that copy.copy() function will do shallow copy of the list while the copy.deepcopy function will do deep copy of the list. "
   ]
  }
 ],
 "metadata": {
  "kernelspec": {
   "display_name": "Python 3 (ipykernel)",
   "language": "python",
   "name": "python3"
  },
  "language_info": {
   "codemirror_mode": {
    "name": "ipython",
    "version": 3
   },
   "file_extension": ".py",
   "mimetype": "text/x-python",
   "name": "python",
   "nbconvert_exporter": "python",
   "pygments_lexer": "ipython3",
   "version": "3.10.6"
  }
 },
 "nbformat": 4,
 "nbformat_minor": 5
}
